{
 "cells": [
  {
   "cell_type": "code",
   "execution_count": 1,
   "metadata": {},
   "outputs": [
    {
     "name": "stdout",
     "output_type": "stream",
     "text": [
      "[9, 5, 4, 3, 2]\n",
      "Hello \n"
     ]
    }
   ],
   "source": [
    "#Priority Queue\n",
    "#Heap Concept Needed Both Max and Min \n",
    "class PriorityQueue:\n",
    "    def __init__(self) -> None:\n",
    "        pass\n",
    "    def max_heapify(arr:list,Size:int,index:int):\n",
    "        largest=index\n",
    "        leftChild=2*index+1\n",
    "        rightChild=2*index+2\n",
    "        if leftChild<Size and arr[index]<arr[leftChild]:\n",
    "            largest=leftChild\n",
    "        if rightChild<Size and arr[index]<arr[rightChild]:\n",
    "            largest=rightChild\n",
    "        if largest!=index:\n",
    "            arr[index], arr[largest]=arr[largest],arr[index]\n",
    "            PriorityQueue.max_heapify(arr,Size,index)\n",
    "    def Insert(arr:list,value:int):\n",
    "        Size=len(arr)\n",
    "        if Size==0:\n",
    "            arr.append(value)\n",
    "        else:\n",
    "            arr.append(value)\n",
    "        for i in range((Size//2)-1,-1,-1):\n",
    "            PriorityQueue.max_heapify(arr,Size,i)\n",
    "    def remove(arr:list,value):\n",
    "        size=len(arr)\n",
    "        index=0;\n",
    "        for i in range(0,size):\n",
    "            if(value==arr[i]):\n",
    "                break\n",
    "        arr[index],arr[size-1]=arr[size-1],arr[index]\n",
    "        arr.remove(size-1)\n",
    "        for i in range((len(arr//2))-1,-1,-1):\n",
    "            PriorityQueue.max_heapify(arr,len(arr),i)\n",
    "if __name__=='__main__':\n",
    "    arr=[]\n",
    "    pq=PriorityQueue;\n",
    "    pq.Insert(arr,3)\n",
    "    pq.Insert(arr,4)\n",
    "    pq.Insert(arr,9)\n",
    "    pq.Insert(arr,5)\n",
    "    pq.Insert(arr,2)\n",
    "    print(str(arr))\n",
    "\n",
    "\n",
    "\n",
    "\n",
    "\n",
    "        \n",
    "\n"
   ]
  },
  {
   "cell_type": "code",
   "execution_count": 6,
   "metadata": {},
   "outputs": [
    {
     "name": "stdout",
     "output_type": "stream",
     "text": [
      "Max-Heap array: [9, 5, 4, 3, 2]\n",
      "After deleting an element: [9, 5, 2, 3]\n"
     ]
    }
   ],
   "source": [
    "class BestFirstSearch:\n",
    "    def __init__(self) -> None:\n",
    "        pass\n",
    "    "
   ]
  }
 ],
 "metadata": {
  "kernelspec": {
   "display_name": "Python 3.10.7 64-bit",
   "language": "python",
   "name": "python3"
  },
  "language_info": {
   "codemirror_mode": {
    "name": "ipython",
    "version": 3
   },
   "file_extension": ".py",
   "mimetype": "text/x-python",
   "name": "python",
   "nbconvert_exporter": "python",
   "pygments_lexer": "ipython3",
   "version": "3.10.7"
  },
  "orig_nbformat": 4,
  "vscode": {
   "interpreter": {
    "hash": "369f2c481f4da34e4445cda3fffd2e751bd1c4d706f27375911949ba6bb62e1c"
   }
  }
 },
 "nbformat": 4,
 "nbformat_minor": 2
}
