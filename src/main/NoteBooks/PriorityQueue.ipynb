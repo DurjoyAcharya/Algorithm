{
 "cells": [
  {
   "cell_type": "code",
   "execution_count": 48,
   "metadata": {},
   "outputs": [],
   "source": [
    "#Priority Queue\n",
    "#Heap Concept Needed Both Max and Min \n",
    "class PriorityQueue:\n",
    "    def __init__(self) -> None:\n",
    "        pass\n",
    "    def max_heapify(arr:int,Size:int,index:int):\n",
    "        largest=0\n",
    "        leftChild=2*index\n",
    "        rightChild=2*index+1\n",
    "        if leftChild<Size and arr[index]<arr[leftChild]:\n",
    "            largest=leftChild\n",
    "        if rightChild<Size and arr[index]<arr[rightChild]:\n",
    "            largest=rightChild\n",
    "        if largest!=index:\n",
    "            arr[index], arr[largest]=arr[largest],arr[index]\n",
    "            PriorityQueue.max_heapify(arr,Size,index)\n",
    "    def Insert(arr:int,value:int):\n",
    "        Size=len(arr)\n",
    "        \n",
    "\n",
    "\n",
    "        \n",
    "\n"
   ]
  },
  {
   "cell_type": "code",
   "execution_count": null,
   "metadata": {},
   "outputs": [],
   "source": []
  }
 ],
 "metadata": {
  "kernelspec": {
   "display_name": "Python 3.10.7 64-bit",
   "language": "python",
   "name": "python3"
  },
  "language_info": {
   "codemirror_mode": {
    "name": "ipython",
    "version": 3
   },
   "file_extension": ".py",
   "mimetype": "text/x-python",
   "name": "python",
   "nbconvert_exporter": "python",
   "pygments_lexer": "ipython3",
   "version": "3.10.7"
  },
  "orig_nbformat": 4,
  "vscode": {
   "interpreter": {
    "hash": "369f2c481f4da34e4445cda3fffd2e751bd1c4d706f27375911949ba6bb62e1c"
   }
  }
 },
 "nbformat": 4,
 "nbformat_minor": 2
}
